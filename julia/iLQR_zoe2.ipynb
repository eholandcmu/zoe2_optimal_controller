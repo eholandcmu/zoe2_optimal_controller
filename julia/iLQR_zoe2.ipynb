{
 "cells": [
  {
   "cell_type": "code",
   "execution_count": 59,
   "metadata": {},
   "outputs": [
    {
     "name": "stderr",
     "output_type": "stream",
     "text": [
      "\u001b[32m\u001b[1m  Activating\u001b[22m\u001b[39m project at `~/cmu/courses/16745_OCRL/Project`\n",
      "\u001b[32m\u001b[1m   Resolving\u001b[22m\u001b[39m package versions...\n",
      "\u001b[32m\u001b[1m  No Changes\u001b[22m\u001b[39m to `~/cmu/courses/16745_OCRL/Project/Project.toml`\n",
      "\u001b[32m\u001b[1m  No Changes\u001b[22m\u001b[39m to `~/cmu/courses/16745_OCRL/Project/Manifest.toml`\n",
      "\u001b[32m\u001b[1m   Resolving\u001b[22m\u001b[39m package versions...\n",
      "\u001b[32m\u001b[1m  No Changes\u001b[22m\u001b[39m to `~/cmu/courses/16745_OCRL/Project/Project.toml`\n",
      "\u001b[32m\u001b[1m  No Changes\u001b[22m\u001b[39m to `~/cmu/courses/16745_OCRL/Project/Manifest.toml`\n",
      "\u001b[32m\u001b[1m   Resolving\u001b[22m\u001b[39m package versions...\n",
      "\u001b[32m\u001b[1m  No Changes\u001b[22m\u001b[39m to `~/cmu/courses/16745_OCRL/Project/Project.toml`\n",
      "\u001b[32m\u001b[1m  No Changes\u001b[22m\u001b[39m to `~/cmu/courses/16745_OCRL/Project/Manifest.toml`\n",
      "\u001b[32m\u001b[1m   Resolving\u001b[22m\u001b[39m package versions...\n",
      "\u001b[32m\u001b[1m  No Changes\u001b[22m\u001b[39m to `~/cmu/courses/16745_OCRL/Project/Project.toml`\n",
      "\u001b[32m\u001b[1m  No Changes\u001b[22m\u001b[39m to `~/cmu/courses/16745_OCRL/Project/Manifest.toml`\n"
     ]
    }
   ],
   "source": [
    "import Pkg\n",
    "Pkg.activate(@__DIR__)\n",
    "Pkg.instantiate()\n",
    "\n",
    "Pkg.add(\"CoordinateTransformations\")\n",
    "Pkg.add(\"RigidBodyDynamics\")\n",
    "Pkg.add(\"MeshCatMechanisms\")\n",
    "Pkg.add(\"MeshCat\")\n",
    "\n",
    "using CoordinateTransformations: Translation\n",
    "using RigidBodyDynamics\n",
    "using MeshCatMechanisms\n",
    "using MeshCat\n",
    "using Printf\n",
    "using LinearAlgebra: I"
   ]
  },
  {
   "cell_type": "code",
   "execution_count": 67,
   "metadata": {},
   "outputs": [
    {
     "name": "stderr",
     "output_type": "stream",
     "text": [
      "┌ Info: Listening on: 127.0.0.1:8712, thread id: 1\n",
      "└ @ HTTP.Servers /home/hayden/.julia/packages/HTTP/4AUPl/src/Servers.jl:382\n",
      "┌ Info: MeshCat server started. You can open the visualizer by visiting the following URL in your browser:\n",
      "│ http://127.0.0.1:8712\n",
      "└ @ MeshCat /home/hayden/.julia/packages/MeshCat/9QrxD/src/visualizer.jl:43\n"
     ]
    },
    {
     "data": {
      "text/html": [
       "    <div style=\"height: 500px; width: 100%; overflow-x: auto; overflow-y: hidden; resize: both\">\n",
       "    <iframe src=\"http://127.0.0.1:8712\" style=\"width: 100%; height: 100%; border: none\"></iframe>\n",
       "    </div>\n"
      ],
      "text/plain": [
       "MeshCat.DisplayedVisualizer(MeshCat.CoreVisualizer(MeshCat.SceneTrees.SceneNode(nothing, nothing, Dict{String, Vector{UInt8}}(), nothing, Dict{String, MeshCat.SceneTrees.SceneNode}()), Set{HTTP.WebSockets.WebSocket}(), ip\"127.0.0.1\", 8712, HTTP.Servers.Server{HTTP.Servers.Listener{Nothing, Sockets.TCPServer}}(HTTP.Servers.Listener{Nothing, Sockets.TCPServer}(Sockets.InetAddr{Sockets.IPv4}(ip\"127.0.0.1\", 8712), \"127.0.0.1\", \"8712\", nothing, Sockets.TCPServer(RawFD(76) active)), nothing, Set{HTTP.Connections.Connection}(), Task (runnable) @0x00007a739fbb2d60, ReentrantLock(nothing, 0x00000000, 0x00, Base.GenericCondition{Base.Threads.SpinLock}(Base.IntrusiveLinkedList{Task}(nothing, nothing), Base.Threads.SpinLock(0)), (0, 134639305577360, 1))), MeshCat.AnimationContext[]))"
      ]
     },
     "metadata": {},
     "output_type": "display_data"
    }
   ],
   "source": [
    "vis = Visualizer()\n",
    "# open(vis)  # open the visualizer in a separate tab/window\n",
    "render(vis) # render the visualizer here inside the jupyter notebook"
   ]
  },
  {
   "cell_type": "code",
   "execution_count": 68,
   "metadata": {},
   "outputs": [
    {
     "data": {
      "text/plain": [
       "MechanismVisualizer{MechanismState{Float64, Float64, Float64, TypeSortedCollections.TypeSortedCollection{Tuple{Vector{Joint{Float64, Revolute{Float64}}}}, 1}}, Visualizer}(MechanismState{Float64, Float64, Float64, …}(…), MeshCat Visualizer with path /meshcat at http://127.0.0.1:8712, 12)"
      ]
     },
     "metadata": {},
     "output_type": "display_data"
    }
   ],
   "source": [
    "urdf_path = \"/home/hayden/cmu/courses/16745_OCRL/Project/zoe2.urdf\"\n",
    "robot = parse_urdf(urdf_path)\n",
    "delete!(vis)\n",
    "mvis = MechanismVisualizer(robot, URDFVisuals(urdf_path), vis)"
   ]
  },
  {
   "cell_type": "code",
   "execution_count": null,
   "metadata": {},
   "outputs": [
    {
     "name": "stdout",
     "output_type": "stream",
     "text": [
      "Initial configuration vector:\n",
      "[0.0, 0.0, 0.0, 0.0, 0.0, 0.0, 0.0]\n",
      "Number of degrees of freedom: 7\n",
      "Joint 1: axle_roll_back_joint\n",
      "Joint 2: axle_yaw_front_joint\n",
      "Joint 3: axle_yaw_back_joint\n",
      "Joint 4: wheel_front_right_joint\n",
      "Joint 5: wheel_front_left_joint\n",
      "Joint 6: wheel_back_right_joint\n",
      "Joint 7: wheel_back_left_joint\n"
     ]
    }
   ],
   "source": [
    "# Create a state for the mechanism\n",
    "state = MechanismState(robot)\n",
    "q = configuration(state)\n",
    "\n",
    "println(\"Initial configuration vector:\")\n",
    "println(q)\n",
    "println(\"Number of degrees of freedom: \", length(q))\n",
    "\n",
    "# Iterate over the joints to print their names\n",
    "for (i, joint) in enumerate(joints(robot))\n",
    "    println(\"Joint \", i, \": \", joint.name)\n",
    "end\n",
    "\n",
    "# Example: update a joint value\n",
    "# q[5] += 1.0\n",
    "\n",
    "# Update the visualizer with the new configuration\n",
    "set_configuration!(mvis, q)"
   ]
  },
  {
   "cell_type": "code",
   "execution_count": null,
   "metadata": {},
   "outputs": [],
   "source": [
    "# Xsim is a \n",
    "\n",
    "function animate_rover(Xsim, Xref, dt)\n",
    "\n",
    "    # animate rover, show Xref with vis_traj!, and track Xref with the green sphere\n",
    "    vis = Visualizer()\n",
    "    robot_obj = parse_urdf(urdf_path)\n",
    "    mc.setobject!(vis[:vic], robot_obj)\n",
    "\n",
    "    target = mc.HyperSphere(mc.Point(0,0,0.0),0.1)\n",
    "    mc.setobject!(vis[:target], target, mc.MeshPhongMaterial(color = mc.RGBA(0.0,1.0,0.0,0.4)))\n",
    "\n",
    "\n",
    "    anim = mc.Animation(vis, fps=floor(Int,1/dt))\n",
    "    for k = 1:length(Xsim)\n",
    "        mc.atframe(anim, k) do\n",
    "            r = Xsim[k][1:3]\n",
    "            p = Xsim[k][7:9]\n",
    "            mc.settransform!(vis[:vic], mc.compose(mc.Translation(r),mc.LinearMap(1.5*(dcm_from_mrp(p)))))\n",
    "            mc.settransform!(vis[:target], mc.Translation(Xref[k][1:3]))\n",
    "        end\n",
    "    end\n",
    "    mc.setanimation!(vis, anim)\n",
    "\n",
    "    return (mc.render(vis))\n",
    "end"
   ]
  },
  {
   "cell_type": "code",
   "execution_count": 64,
   "metadata": {},
   "outputs": [
    {
     "ename": "UndefVarError",
     "evalue": "UndefVarError: `set_transform!` not defined",
     "output_type": "error",
     "traceback": [
      "UndefVarError: `set_transform!` not defined\n",
      "\n",
      "Stacktrace:\n",
      " [1] top-level scope\n",
      "   @ ~/cmu/courses/16745_OCRL/Project/jl_notebook_cell_df34fa98e69747e1a8f8a730347b8e2f_W0sZmlsZQ==.jl:17"
     ]
    }
   ],
   "source": [
    "# Parameters for the simulation\n",
    "nsteps = 100       # total steps of the simulation\n",
    "dt = 0.1           # time step (seconds)\n",
    "forward_step = 0.05  # distance to move forward per step\n",
    "wheel_speed_increment = 0.1  # amount to rotate each wheel per step\n",
    "\n",
    "# We'll assume that joints 4, 5, 6, 7 correspond to the wheels.\n",
    "# (See your printed joint names above.)\n",
    "for k in 1:nsteps\n",
    "    # Compute a new overall transform for the rover.\n",
    "    # Here we move it forward along the x-axis.\n",
    "    x = forward_step * k\n",
    "    T = Translation([x, 0.0, 0.0])\n",
    "    # Update the visualizer's transform. This applies a global offset.\n",
    "    # (If mvis doesn't support a global transform update, you can update\n",
    "    # the transform of the mechanism's group node via vis[\"mechanism\"].)\n",
    "    set_transform!(mvis, T)\n",
    "    \n",
    "    # Update the wheel joints to simulate spinning.\n",
    "    q[4] += wheel_speed_increment\n",
    "    q[5] += wheel_speed_increment\n",
    "    q[6] += wheel_speed_increment\n",
    "    q[7] += wheel_speed_increment\n",
    "    set_configuration!(mvis, q)\n",
    "    \n",
    "    sleep(dt)  # pause for dt seconds to control the animation rate\n",
    "end\n"
   ]
  }
 ],
 "metadata": {
  "kernelspec": {
   "display_name": "Julia 1.10.9",
   "language": "julia",
   "name": "julia-1.10"
  },
  "language_info": {
   "file_extension": ".jl",
   "mimetype": "application/julia",
   "name": "julia",
   "version": "1.10.9"
  }
 },
 "nbformat": 4,
 "nbformat_minor": 2
}
