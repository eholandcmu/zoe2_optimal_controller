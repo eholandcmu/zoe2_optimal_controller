{
 "cells": [
  {
   "cell_type": "code",
   "execution_count": 1,
   "metadata": {},
   "outputs": [
    {
     "name": "stderr",
     "output_type": "stream",
     "text": [
      "\u001b[32m\u001b[1m  Activating\u001b[22m\u001b[39m project at `~/cmu/courses/16745_OCRL/zoe2_optimal_controller/julia`\n"
     ]
    }
   ],
   "source": [
    "import Pkg\n",
    "Pkg.activate(@__DIR__)\n",
    "Pkg.instantiate()\n",
    "\n",
    "# Pkg.add(\"CoordinateTransformations\")\n",
    "# Pkg.add(\"RigidBodyDynamics\")\n",
    "# Pkg.add(\"MeshCatMechanisms\")\n",
    "# Pkg.add(\"MeshCat\")\n",
    "\n",
    "using CoordinateTransformations: Translation\n",
    "using RigidBodyDynamics\n",
    "using MeshCatMechanisms\n",
    "using MeshCat\n",
    "using Printf\n",
    "using LinearAlgebra"
   ]
  },
  {
   "cell_type": "code",
   "execution_count": 2,
   "metadata": {},
   "outputs": [
    {
     "name": "stderr",
     "output_type": "stream",
     "text": [
      "┌ Info: Listening on: 127.0.0.1:8700, thread id: 1\n",
      "└ @ HTTP.Servers /home/hayden/.julia/packages/HTTP/4AUPl/src/Servers.jl:382\n",
      "┌ Info: MeshCat server started. You can open the visualizer by visiting the following URL in your browser:\n",
      "│ http://127.0.0.1:8700\n",
      "└ @ MeshCat /home/hayden/.julia/packages/MeshCat/9QrxD/src/visualizer.jl:43\n"
     ]
    },
    {
     "data": {
      "text/html": [
       "    <div style=\"height: 500px; width: 100%; overflow-x: auto; overflow-y: hidden; resize: both\">\n",
       "    <iframe src=\"http://127.0.0.1:8700\" style=\"width: 100%; height: 100%; border: none\"></iframe>\n",
       "    </div>\n"
      ],
      "text/plain": [
       "MeshCat.DisplayedVisualizer(MeshCat.CoreVisualizer(MeshCat.SceneTrees.SceneNode(nothing, nothing, Dict{String, Vector{UInt8}}(), nothing, Dict{String, MeshCat.SceneTrees.SceneNode}()), Set{HTTP.WebSockets.WebSocket}(), ip\"127.0.0.1\", 8700, HTTP.Servers.Server{HTTP.Servers.Listener{Nothing, Sockets.TCPServer}}(HTTP.Servers.Listener{Nothing, Sockets.TCPServer}(Sockets.InetAddr{Sockets.IPv4}(ip\"127.0.0.1\", 8700), \"127.0.0.1\", \"8700\", nothing, Sockets.TCPServer(RawFD(22) active)), nothing, Set{HTTP.Connections.Connection}(), Task (runnable) @0x00007741160b5140, ReentrantLock(nothing, 0x00000000, 0x00, Base.GenericCondition{Base.Threads.SpinLock}(Base.IntrusiveLinkedList{Task}(nothing, nothing), Base.Threads.SpinLock(0)), (0, 0, 142463702892))), MeshCat.AnimationContext[]))"
      ]
     },
     "metadata": {},
     "output_type": "display_data"
    }
   ],
   "source": [
    "vis = Visualizer()\n",
    "# open(vis)  # open the visualizer in a separate tab/window\n",
    "render(vis) # render the visualizer here inside the jupyter notebook\n"
   ]
  },
  {
   "cell_type": "code",
   "execution_count": 3,
   "metadata": {},
   "outputs": [
    {
     "data": {
      "text/plain": [
       "MechanismVisualizer{MechanismState{Float64, Float64, Float64, TypeSortedCollections.TypeSortedCollection{Tuple{Vector{Joint{Float64, Revolute{Float64}}}}, 1}}, Visualizer}(MechanismState{Float64, Float64, Float64, …}(…), MeshCat Visualizer with path /meshcat at http://127.0.0.1:8700, 12)"
      ]
     },
     "metadata": {},
     "output_type": "display_data"
    }
   ],
   "source": [
    "urdf_path = joinpath(@__DIR__, \"zoe2.urdf\")\n",
    "robot = parse_urdf(urdf_path)\n",
    "mvis = MechanismVisualizer(robot, URDFVisuals(urdf_path), vis)"
   ]
  },
  {
   "cell_type": "code",
   "execution_count": 4,
   "metadata": {},
   "outputs": [
    {
     "name": "stdout",
     "output_type": "stream",
     "text": [
      "Initial configuration vector:\n",
      "[0.0, 0.0, 0.0, 0.0, 0.0, 0.0, 0.0]\n",
      "Number of degrees of freedom: 7\n",
      "Joint 1: axle_roll_back_joint\n",
      "Joint 2: axle_yaw_front_joint\n",
      "Joint 3: axle_yaw_back_joint\n",
      "Joint 4: wheel_front_right_joint\n",
      "Joint 5: wheel_front_left_joint\n",
      "Joint 6: wheel_back_right_joint\n",
      "Joint 7: wheel_back_left_joint\n"
     ]
    }
   ],
   "source": [
    "# Create a state for the mechanism\n",
    "state = MechanismState(robot)\n",
    "q = configuration(state)\n",
    "\n",
    "println(\"Initial configuration vector:\")\n",
    "println(q)\n",
    "println(\"Number of degrees of freedom: \", length(q))\n",
    "\n",
    "# Iterate over the joints to print their names\n",
    "for (i, joint) in enumerate(joints(robot))\n",
    "    println(\"Joint \", i, \": \", joint.name)\n",
    "end\n",
    "\n",
    "# Example: update a joint value\n",
    "# q[5] += 1.0\n",
    "\n",
    "# Update the visualizer with the new configuration\n",
    "set_configuration!(mvis, q)\n",
    "\n",
    "# state = MechanismState(robot, randn(2), randn(2))\n",
    "# t, q, v = simulate(state, 5.0);"
   ]
  },
  {
   "cell_type": "code",
   "execution_count": null,
   "metadata": {},
   "outputs": [
    {
     "name": "stdout",
     "output_type": "stream",
     "text": [
      "Xsim[1]: [0.0, 0.0, 0.01, 0.0, 0.0]\n",
      "Usim[1]: [0.1, 0.1, 0.1, 0.1]\n",
      "R_b: 500000.0\n",
      "R_fl: 1.0e6\n",
      "R_fr: 1.0e6\n",
      "R_rl: 1.0e6\n",
      "R_rr: 1.0e6\n",
      "v_b: 0.0\n",
      "ψ_dot: 0.0\n",
      "θ_f_dot: 0.0\n",
      "θ_r_dot: 0.0\n",
      "x_dot: 0.0\n",
      "y_dot: 0.0\n"
     ]
    }
   ],
   "source": [
    "include(joinpath(@__DIR__, \"zoe2.jl\"))\n",
    "\n",
    "# Model parameters\n",
    "model = (\n",
    "    L = 1.0, # robot length\n",
    "    B = 0.5, # robot width\n",
    "    r = 0.1  # wheel radius\n",
    ")\n",
    "\n",
    "# Simulation parameters\n",
    "params = (\n",
    "    dt = 0.1, # seconds\n",
    "    total_steps = 2,\n",
    "    model = model\n",
    ")\n",
    "\n",
    "# Define our states\n",
    "x = 0.0\n",
    "y = 0.0\n",
    "ψ = 0.0\n",
    "θ_f = 0.01   # front steering angle (radians)\n",
    "θ_r = 0.0   # rear steering angle (radians)\n",
    "\n",
    "# Each state vector: [x_b, y_b, ψ, θ_f, θ_r]\n",
    "Xsim = [zeros(5) for _ in 1:params.total_steps]\n",
    "Xsim[1] = [x, y, ψ, θ_f, θ_r]\n",
    "\n",
    "# Define our control parameters (start as straight motion)\n",
    "ω_fl = 0.1\n",
    "ω_fr = 0.1\n",
    "ω_rl = 0.1\n",
    "ω_rr = 0.1\n",
    "\n",
    "# Each control vector: [ω_fl, ω_fr, ω_rl, ω_rr]\n",
    "Usim = [zeros(4) for _ in 1:params.total_steps]\n",
    "Usim[1] = [ω_fl, ω_fr, ω_rl, ω_rr]\n",
    "\n",
    "# Compute the changes in the states based on the control and accumulate over steps\n",
    "for i in 1:params.total_steps-1\n",
    "\n",
    "    println(\"Xsim[\", i, \"]: \", Xsim[i])\n",
    "    println(\"Usim[\", i, \"]: \", Usim[i])\n",
    "\n",
    "    Xdot = zoe2_dynamics(params.model, Xsim[i], Usim[i])\n",
    "    # println(\"Xdot: \", Xdot)\n",
    "\n",
    "    # Unpack the dynamics vector\n",
    "    dx_b = Xdot[1]\n",
    "    dy_b = Xdot[2]\n",
    "    dψ = Xdot[3]\n",
    "    dθ_f = Xdot[4]\n",
    "    dθ_r = Xdot[5]\n",
    "\n",
    "    # Update the state based on the dynamics\n",
    "    x += dx_b * params.dt\n",
    "    y += dy_b * params.dt\n",
    "    ψ += dψ * params.dt\n",
    "    θ_f += dθ_f * params.dt\n",
    "    θ_r += dθ_r * params.dt\n",
    "\n",
    "    # Set the next vector\n",
    "    Xsim[i+1] = [x, y, ψ, θ_f, θ_r]\n",
    "    Usim[i+1] = [ω_fl, ω_fr, ω_rl, ω_rr]\n",
    "end\n",
    "\n",
    "# println(\"Simulation data:\")\n",
    "# println(\"x_b, y_b, ψ, θ_f, θ_r\")\n",
    "# for i in 1:params.total_steps\n",
    "#     @printf(\"%3d: %8.2f, %8.2f, %8.2f, %8.2f, %8.2f\\n\", i, Xsim[i][1], Xsim[i][2], Xsim[i][3], Xsim[i][4], Xsim[i][5])\n",
    "# end\n",
    "\n",
    "# animate_zoe2(Xsim, dt)\n"
   ]
  }
 ],
 "metadata": {
  "kernelspec": {
   "display_name": "Julia 1.10.9",
   "language": "julia",
   "name": "julia-1.10"
  },
  "language_info": {
   "file_extension": ".jl",
   "mimetype": "application/julia",
   "name": "julia",
   "version": "1.10.9"
  }
 },
 "nbformat": 4,
 "nbformat_minor": 2
}
