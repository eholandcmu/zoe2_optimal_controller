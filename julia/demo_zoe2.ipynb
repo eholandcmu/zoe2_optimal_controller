{
 "cells": [
  {
   "cell_type": "code",
   "execution_count": 1,
   "metadata": {},
   "outputs": [
    {
     "name": "stderr",
     "output_type": "stream",
     "text": [
      "\u001b[32m\u001b[1m  Activating\u001b[22m\u001b[39m project at `~/cmu/courses/16745_OCRL/zoe2_optimal_controller/julia`\n"
     ]
    }
   ],
   "source": [
    "import Pkg\n",
    "Pkg.activate(@__DIR__)\n",
    "Pkg.instantiate()\n",
    "\n",
    "# Pkg.add(\"CoordinateTransformations\")\n",
    "# Pkg.add(\"RigidBodyDynamics\")\n",
    "# Pkg.add(\"MeshCatMechanisms\")\n",
    "# Pkg.add(\"MeshCat\")\n",
    "\n",
    "using CoordinateTransformations: Translation\n",
    "using RigidBodyDynamics\n",
    "using MeshCatMechanisms\n",
    "using MeshCat\n",
    "using Printf\n",
    "using LinearAlgebra"
   ]
  },
  {
   "cell_type": "code",
   "execution_count": 2,
   "metadata": {},
   "outputs": [
    {
     "name": "stderr",
     "output_type": "stream",
     "text": [
      "┌ Info: Listening on: 127.0.0.1:8700, thread id: 1\n",
      "└ @ HTTP.Servers /home/hayden/.julia/packages/HTTP/4AUPl/src/Servers.jl:382\n",
      "┌ Info: MeshCat server started. You can open the visualizer by visiting the following URL in your browser:\n",
      "│ http://127.0.0.1:8700\n",
      "└ @ MeshCat /home/hayden/.julia/packages/MeshCat/9QrxD/src/visualizer.jl:43\n"
     ]
    },
    {
     "data": {
      "text/html": [
       "    <div style=\"height: 500px; width: 100%; overflow-x: auto; overflow-y: hidden; resize: both\">\n",
       "    <iframe src=\"http://127.0.0.1:8700\" style=\"width: 100%; height: 100%; border: none\"></iframe>\n",
       "    </div>\n"
      ],
      "text/plain": [
       "MeshCat.DisplayedVisualizer(MeshCat.CoreVisualizer(MeshCat.SceneTrees.SceneNode(nothing, nothing, Dict{String, Vector{UInt8}}(), nothing, Dict{String, MeshCat.SceneTrees.SceneNode}()), Set{HTTP.WebSockets.WebSocket}(), ip\"127.0.0.1\", 8700, HTTP.Servers.Server{HTTP.Servers.Listener{Nothing, Sockets.TCPServer}}(HTTP.Servers.Listener{Nothing, Sockets.TCPServer}(Sockets.InetAddr{Sockets.IPv4}(ip\"127.0.0.1\", 8700), \"127.0.0.1\", \"8700\", nothing, Sockets.TCPServer(RawFD(22) active)), nothing, Set{HTTP.Connections.Connection}(), Task (runnable) @0x00007cc8e54b5140, ReentrantLock(nothing, 0x00000000, 0x00, Base.GenericCondition{Base.Threads.SpinLock}(Base.IntrusiveLinkedList{Task}(nothing, nothing), Base.Threads.SpinLock(0)), (0, 0, 143753118144))), MeshCat.AnimationContext[]))"
      ]
     },
     "metadata": {},
     "output_type": "display_data"
    }
   ],
   "source": [
    "vis = Visualizer()\n",
    "# open(vis)  # open the visualizer in a separate tab/window\n",
    "render(vis) # render the visualizer here inside the jupyter notebook\n"
   ]
  },
  {
   "cell_type": "code",
   "execution_count": 3,
   "metadata": {},
   "outputs": [
    {
     "data": {
      "text/plain": [
       "MechanismVisualizer{MechanismState{Float64, Float64, Float64, TypeSortedCollections.TypeSortedCollection{Tuple{Vector{Joint{Float64, Revolute{Float64}}}}, 1}}, Visualizer}(MechanismState{Float64, Float64, Float64, …}(…), MeshCat Visualizer with path /meshcat at http://127.0.0.1:8700, 12)"
      ]
     },
     "metadata": {},
     "output_type": "display_data"
    }
   ],
   "source": [
    "urdf_path = joinpath(@__DIR__, \"zoe2.urdf\")\n",
    "robot = parse_urdf(urdf_path)\n",
    "mvis = MechanismVisualizer(robot, URDFVisuals(urdf_path), vis)"
   ]
  },
  {
   "cell_type": "code",
   "execution_count": 4,
   "metadata": {},
   "outputs": [
    {
     "name": "stdout",
     "output_type": "stream",
     "text": [
      "Initial configuration vector:\n",
      "[0.0, 0.0, 0.0, 0.0, 0.0, 0.0, 0.0]\n",
      "Number of degrees of freedom: 7\n",
      "Joint 1: axle_roll_back_joint\n",
      "Joint 2: axle_yaw_front_joint\n",
      "Joint 3: axle_yaw_back_joint\n",
      "Joint 4: wheel_front_right_joint\n",
      "Joint 5: wheel_front_left_joint\n",
      "Joint 6: wheel_back_right_joint\n",
      "Joint 7: wheel_back_left_joint\n"
     ]
    }
   ],
   "source": [
    "# Create a state for the mechanism\n",
    "state = MechanismState(robot)\n",
    "q = configuration(state)\n",
    "\n",
    "println(\"Initial configuration vector:\")\n",
    "println(q)\n",
    "println(\"Number of degrees of freedom: \", length(q))\n",
    "\n",
    "# Iterate over the joints to print their names\n",
    "for (i, joint) in enumerate(joints(robot))\n",
    "    println(\"Joint \", i, \": \", joint.name)\n",
    "end\n",
    "\n",
    "# Example: update a joint value\n",
    "# q[5] += 1.0\n",
    "\n",
    "# Update the visualizer with the new configuration\n",
    "set_configuration!(mvis, q)\n",
    "\n",
    "# state = MechanismState(robot, randn(2), randn(2))\n",
    "# t, q, v = simulate(state, 5.0);"
   ]
  },
  {
   "cell_type": "code",
   "execution_count": null,
   "metadata": {},
   "outputs": [
    {
     "name": "stdout",
     "output_type": "stream",
     "text": [
      "Xdot: [0.006565166905135601, 0.0, 0.020449296433747616, 0.0, 0.0]\n",
      "Xdot: [0.0065651531782388965, 1.3425295061167437e-5, 0.020449296433747616, 0.0, 0.0]\n",
      "Xdot: [0.006565111997606186, 2.6850533981298034e-5, 0.020449296433747616, 0.0, 0.0]\n",
      "Xdot: [0.006565043363409675, 4.027566061958972e-5, 0.020449296433747616, 0.0, 0.0]\n",
      "Xdot: [0.006564947275936374, 5.3700618835709975e-5, 0.020449296433747616, 0.0, 0.0]\n",
      "Xdot: [0.006564823735588097, 6.712535249003054e-5, 0.020449296433747616, 0.0, 0.0]\n",
      "Xdot: [0.006564672742881455, 8.054980544386226e-5, 0.020449296433747616, 0.0, 0.0]\n",
      "Xdot: [0.00656449429844786, 9.397392155968973e-5, 0.020449296433747616, 0.0, 0.0]\n",
      "Xdot: [0.0065642884030335195, 0.00010739764470140615, 0.020449296433747616, 0.0, 0.0]\n",
      "Xdot: [0.006564055057499434, 0.00012082091873454807, 0.020449296433747616, 0.0, 0.0]\n",
      "Xdot: [0.0065637942628213935, 0.00013424368752653005, 0.020449296433747616, 0.0, 0.0]\n",
      "Xdot: [0.0065635060200899716, 0.00014766589494687944, 0.020449296433747616, 0.0, 0.0]\n",
      "Xdot: [0.0065631903305105235, 0.0001610874848674711, 0.020449296433747616, 0.0, 0.0]\n",
      "Xdot: [0.00656284719540318, 0.0001745084011627621, 0.020449296433747616, 0.0, 0.0]\n",
      "Xdot: [0.006562476616202841, 0.00018792858771002647, 0.020449296433747616, 0.0, 0.0]\n",
      "Xdot: [0.006562078594459169, 0.0002013479883895898, 0.020449296433747616, 0.0, 0.0]\n",
      "Xdot: [0.006561653131836589, 0.00021476654708506404, 0.020449296433747616, 0.0, 0.0]\n",
      "Xdot: [0.006561200230114272, 0.00022818420768358204, 0.020449296433747616, 0.0, 0.0]\n",
      "Xdot: [0.006560719891186133, 0.00024160091407603225, 0.020449296433747616, 0.0, 0.0]\n",
      "Xdot: [0.006560212117060823, 0.0002550166101572934, 0.020449296433747616, 0.0, 0.0]\n",
      "Xdot: [0.0065596769098617185, 0.00026843123982646903, 0.020449296433747616, 0.0, 0.0]\n",
      "Xdot: [0.006559114271826916, 0.0002818447469871222, 0.020449296433747616, 0.0, 0.0]\n",
      "Xdot: [0.006558524205309217, 0.0002952570755475099, 0.020449296433747616, 0.0, 0.0]\n",
      "Xdot: [0.006557906712776126, 0.00030866816942081777, 0.020449296433747616, 0.0, 0.0]\n",
      "Xdot: [0.006557261796809831, 0.0003220779725253946, 0.020449296433747616, 0.0, 0.0]\n",
      "Xdot: [0.006556589460107203, 0.00033548642878498687, 0.020449296433747616, 0.0, 0.0]\n",
      "Xdot: [0.006555889705479774, 0.00034889348212897316, 0.020449296433747616, 0.0, 0.0]\n",
      "Xdot: [0.006555162535853735, 0.00036229907649259856, 0.020449296433747616, 0.0, 0.0]\n",
      "Xdot: [0.0065544079542699165, 0.00037570315581720947, 0.020449296433747616, 0.0, 0.0]\n",
      "Xdot: [0.00655362596388378, 0.00038910566405048766, 0.020449296433747616, 0.0, 0.0]\n",
      "Xdot: [0.0065528165679654, 0.0004025065451466847, 0.020449296433747616, 0.0, 0.0]\n",
      "Xdot: [0.00655197976989946, 0.0004159057430668565, 0.020449296433747616, 0.0, 0.0]\n",
      "Xdot: [0.006551115573185225, 0.0004293032017790977, 0.020449296433747616, 0.0, 0.0]\n",
      "Xdot: [0.00655022398143654, 0.0004426988652587755, 0.020449296433747616, 0.0, 0.0]\n",
      "Xdot: [0.006549304998381805, 0.00045609267748876475, 0.020449296433747616, 0.0, 0.0]\n",
      "Xdot: [0.006548358627863965, 0.00046948458245968144, 0.020449296433747616, 0.0, 0.0]\n",
      "Xdot: [0.00654738487384049, 0.0004828745241701171, 0.020449296433747616, 0.0, 0.0]\n",
      "Xdot: [0.006546383740383363, 0.0004962624466268735, 0.020449296433747616, 0.0, 0.0]\n",
      "Xdot: [0.00654535523167906, 0.0005096482938451959, 0.020449296433747616, 0.0, 0.0]\n",
      "Xdot: [0.006544299352028533, 0.0005230320098490082, 0.020449296433747616, 0.0, 0.0]\n",
      "Xdot: [0.00654321610584719, 0.000536413538671146, 0.020449296433747616, 0.0, 0.0]\n",
      "Xdot: [0.006542105497664882, 0.0005497928243535914, 0.020449296433747616, 0.0, 0.0]\n",
      "Xdot: [0.006540967532125877, 0.0005631698109477066, 0.020449296433747616, 0.0, 0.0]\n",
      "Xdot: [0.006539802213988848, 0.000576544442514468, 0.020449296433747616, 0.0, 0.0]\n",
      "Xdot: [0.0065386095481268485, 0.0005899166631247001, 0.020449296433747616, 0.0, 0.0]\n",
      "Xdot: [0.006537389539527289, 0.0006032864168593095, 0.020449296433747616, 0.0, 0.0]\n",
      "Xdot: [0.006536142193291925, 0.0006166536478095185, 0.020449296433747616, 0.0, 0.0]\n",
      "Xdot: [0.0065348675146368294, 0.0006300183000770989, 0.020449296433747616, 0.0, 0.0]\n",
      "Xdot: [0.00653356550889237, 0.0006433803177746059, 0.020449296433747616, 0.0, 0.0]\n",
      "Xdot: [0.006532236181503191, 0.0006567396450256124, 0.020449296433747616, 0.0, 0.0]\n",
      "Xdot: [0.00653087953802819, 0.0006700962259649409, 0.020449296433747616, 0.0, 0.0]\n",
      "Xdot: [0.00652949558414049, 0.0006834500047388992, 0.020449296433747616, 0.0, 0.0]\n",
      "Xdot: [0.006528084325627422, 0.0006968009255055125, 0.020449296433747616, 0.0, 0.0]\n",
      "Xdot: [0.006526645768390493, 0.000710148932434758, 0.020449296433747616, 0.0, 0.0]\n",
      "Xdot: [0.0065251799184453734, 0.000723493969708797, 0.020449296433747616, 0.0, 0.0]\n",
      "Xdot: [0.006523686781921858, 0.0007368359815222096, 0.020449296433747616, 0.0, 0.0]\n",
      "Xdot: [0.006522166365063849, 0.0007501749120822276, 0.020449296433747616, 0.0, 0.0]\n",
      "Xdot: [0.00652061867422933, 0.0007635107056089678, 0.020449296433747616, 0.0, 0.0]\n",
      "Xdot: [0.006519043715890333, 0.0007768433063356648, 0.020449296433747616, 0.0, 0.0]\n",
      "Xdot: [0.006517441496632918, 0.0007901726585089052, 0.020449296433747616, 0.0, 0.0]\n",
      "Xdot: [0.006515812023157144, 0.0008034987063888599, 0.020449296433747616, 0.0, 0.0]\n",
      "Xdot: [0.006514155302277037, 0.0008168213942495177, 0.020449296433747616, 0.0, 0.0]\n",
      "Xdot: [0.0065124713409205675, 0.0008301406663789179, 0.020449296433747616, 0.0, 0.0]\n",
      "Xdot: [0.006510760146129615, 0.0008434564670793833, 0.020449296433747616, 0.0, 0.0]\n",
      "Xdot: [0.006509021725059946, 0.0008567687406677541, 0.020449296433747616, 0.0, 0.0]\n",
      "Xdot: [0.006507256084981177, 0.0008700774314756188, 0.020449296433747616, 0.0, 0.0]\n",
      "Xdot: [0.006505463233276748, 0.0008833824838495492, 0.020449296433747616, 0.0, 0.0]\n",
      "Xdot: [0.006503643177443893, 0.0008966838421513313, 0.020449296433747616, 0.0, 0.0]\n",
      "Xdot: [0.006501795925093602, 0.0009099814507581993, 0.020449296433747616, 0.0, 0.0]\n",
      "Xdot: [0.006499921483950598, 0.0009232752540630672, 0.020449296433747616, 0.0, 0.0]\n",
      "Xdot: [0.006498019861853298, 0.0009365651964747619, 0.020449296433747616, 0.0, 0.0]\n",
      "Xdot: [0.006496091066753784, 0.0009498512224182557, 0.020449296433747616, 0.0, 0.0]\n",
      "Xdot: [0.006494135106717766, 0.0009631332763348983, 0.020449296433747616, 0.0, 0.0]\n",
      "Xdot: [0.006492151989924554, 0.0009764113026826496, 0.020449296433747616, 0.0, 0.0]\n",
      "Xdot: [0.006490141724667016, 0.0009896852459363118, 0.020449296433747616, 0.0, 0.0]\n",
      "Xdot: [0.006488104319351552, 0.001002955050587761, 0.020449296433747616, 0.0, 0.0]\n",
      "Xdot: [0.006486039782498052, 0.0010162206611461803, 0.020449296433747616, 0.0, 0.0]\n",
      "Xdot: [0.006483948122739865, 0.001029482022138291, 0.020449296433747616, 0.0, 0.0]\n",
      "Xdot: [0.006481829348823758, 0.0010427390781085858, 0.020449296433747616, 0.0, 0.0]\n",
      "Xdot: [0.006479683469609884, 0.0010559917736195587, 0.020449296433747616, 0.0, 0.0]\n",
      "Xdot: [0.006477510494071742, 0.001069240053251939, 0.020449296433747616, 0.0, 0.0]\n",
      "Xdot: [0.006475310431296144, 0.0010824838616049215, 0.020449296433747616, 0.0, 0.0]\n",
      "Xdot: [0.00647308329048317, 0.0010957231432963987, 0.020449296433747616, 0.0, 0.0]\n",
      "Xdot: [0.0064708290809461335, 0.0011089578429631928, 0.020449296433747616, 0.0, 0.0]\n",
      "Xdot: [0.0064685478121115445, 0.0011221879052612863, 0.020449296433747616, 0.0, 0.0]\n",
      "Xdot: [0.006466239493519066, 0.001135413274866054, 0.020449296433747616, 0.0, 0.0]\n",
      "Xdot: [0.006463904134821476, 0.001148633896472495, 0.020449296433747616, 0.0, 0.0]\n",
      "Xdot: [0.006461541745784629, 0.0011618497147954626, 0.020449296433747616, 0.0, 0.0]\n",
      "Xdot: [0.0064591523362874095, 0.0011750606745698962, 0.020449296433747616, 0.0, 0.0]\n",
      "Xdot: [0.006456735916321699, 0.0011882667205510525, 0.020449296433747616, 0.0, 0.0]\n",
      "Xdot: [0.0064542924959923266, 0.0012014677975147364, 0.020449296433747616, 0.0, 0.0]\n",
      "Xdot: [0.0064518220855170295, 0.0012146638502575323, 0.020449296433747616, 0.0, 0.0]\n",
      "Xdot: [0.006449324695226413, 0.0012278548235970335, 0.020449296433747616, 0.0, 0.0]\n",
      "Xdot: [0.006446800335563902, 0.0012410406623720753, 0.020449296433747616, 0.0, 0.0]\n",
      "Xdot: [0.006444249017085704, 0.0012542213114429632, 0.020449296433747616, 0.0, 0.0]\n",
      "Xdot: [0.006441670750460756, 0.0012673967156917058, 0.020449296433747616, 0.0, 0.0]\n",
      "Xdot: [0.00643906554647069, 0.0012805668200222434, 0.020449296433747616, 0.0, 0.0]\n",
      "Xdot: [0.00643643341600978, 0.0012937315693606793, 0.020449296433747616, 0.0, 0.0]\n",
      "Xdot: [0.006433774370084899, 0.00130689090865551, 0.020449296433747616, 0.0, 0.0]\n",
      "Xdot: [0.006431088419815476, 0.0013200447828778557, 0.020449296433747616, 0.0, 0.0]\n"
     ]
    },
    {
     "ename": "BoundsError",
     "evalue": "BoundsError: attempt to access 100-element Vector{Vector{Float64}} at index [101]",
     "output_type": "error",
     "traceback": [
      "BoundsError: attempt to access 100-element Vector{Vector{Float64}} at index [101]\n",
      "\n",
      "Stacktrace:\n",
      " [1] setindex!(A::Vector{Vector{Float64}}, x::Vector{Float64}, i1::Int64)\n",
      "   @ Base ./array.jl:1021\n",
      " [2] top-level scope\n",
      "   @ ~/cmu/courses/16745_OCRL/zoe2_optimal_controller/julia/jl_notebook_cell_df34fa98e69747e1a8f8a730347b8e2f_W4sZmlsZQ==.jl:62"
     ]
    }
   ],
   "source": [
    "include(joinpath(@__DIR__, \"zoe2.jl\"))\n",
    "\n",
    "# Model parameters\n",
    "model = (\n",
    "    L = 1.0, # robot length\n",
    "    B = 0.5, # robot width\n",
    "    r = 0.1  # wheel radius\n",
    ")\n",
    "\n",
    "# Simulation parameters\n",
    "params = (\n",
    "    dt = 0.1, # seconds\n",
    "    total_steps = 100,\n",
    "    model = model\n",
    ")\n",
    "\n",
    "# Define our states\n",
    "x = 0.0\n",
    "y = 0.0\n",
    "ψ = 0.0\n",
    "θ_f = 1.0   # front steering angle (radians)\n",
    "θ_r = 1.0   # rear steering angle (radians)\n",
    "\n",
    "# Each state vector: [x_b, y_b, ψ, θ_f, θ_r]\n",
    "Xsim = [zeros(5) for _ in 1:params.total_steps]\n",
    "Xsim[1] = [x, y, ψ, θ_f, θ_r]\n",
    "\n",
    "# Define our control parameters (start as straight motion)\n",
    "ω_fl = 0.1\n",
    "ω_fr = 0.1\n",
    "ω_rl = 0.1\n",
    "ω_rr = 0.1\n",
    "\n",
    "# Each control vector: [ω_fl, ω_fr, ω_rl, ω_rr]\n",
    "Usim = [zeros(4) for _ in 1:params.total_steps]\n",
    "Usim[1] = [ω_fl, ω_fr, ω_rl, ω_rr]\n",
    "\n",
    "# Compute the changes in the states based on the control and accumulate over steps\n",
    "for i in 1:params.total_steps-1\n",
    "\n",
    "    # println(\"Xsim[\", i, \"]: \", Xsim[i])\n",
    "    # println(\"Usim[\", i, \"]: \", Usim[i])\n",
    "\n",
    "    Xdot = zoe2_dynamics(params.model, Xsim[i], Usim[i])\n",
    "    println(\"Xdot: \", Xdot)\n",
    "\n",
    "    # Unpack the dynamics vector\n",
    "    dx_b = Xdot[1]\n",
    "    dy_b = Xdot[2]\n",
    "    dψ = Xdot[3]\n",
    "    dθ_f = Xdot[4]\n",
    "    dθ_r = Xdot[5]\n",
    "\n",
    "    # Update the state based on the dynamics\n",
    "    x += dx_b * params.dt\n",
    "    y += dy_b * params.dt\n",
    "    ψ += dψ * params.dt\n",
    "    θ_f += dθ_f * params.dt\n",
    "    θ_r += dθ_r * params.dt\n",
    "\n",
    "    # Set the next vector\n",
    "    Xsim[i+1] = [x, y, ψ, θ_f, θ_r]\n",
    "    Usim[i+1] = [ω_fl, ω_fr, ω_rl, ω_rr]\n",
    "end\n",
    "\n",
    "# println(\"Simulation data:\")\n",
    "# println(\"x_b, y_b, ψ, θ_f, θ_r\")\n",
    "# for i in 1:params.total_steps\n",
    "#     @printf(\"%3d: %8.2f, %8.2f, %8.2f, %8.2f, %8.2f\\n\", i, Xsim[i][1], Xsim[i][2], Xsim[i][3], Xsim[i][4], Xsim[i][5])\n",
    "# end\n",
    "\n",
    "# animate_zoe2(Xsim, dt)\n"
   ]
  }
 ],
 "metadata": {
  "kernelspec": {
   "display_name": "Julia 1.10.9",
   "language": "julia",
   "name": "julia-1.10"
  },
  "language_info": {
   "file_extension": ".jl",
   "mimetype": "application/julia",
   "name": "julia",
   "version": "1.10.9"
  }
 },
 "nbformat": 4,
 "nbformat_minor": 2
}
